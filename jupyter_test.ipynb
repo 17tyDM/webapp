{
 "cells": [
  {
   "cell_type": "code",
   "execution_count": 1,
   "metadata": {},
   "outputs": [
    {
     "data": {
      "text/plain": [
       "2"
      ]
     },
     "execution_count": 1,
     "metadata": {},
     "output_type": "execute_result"
    }
   ],
   "source": [
    "1+1"
   ]
  },
  {
   "cell_type": "code",
   "execution_count": 2,
   "metadata": {},
   "outputs": [
    {
     "name": "stdout",
     "output_type": "stream",
     "text": [
      "引数関数の中\n"
     ]
    }
   ],
   "source": [
    "def param_func():\n",
    "    print('引数関数の中')\n",
    "\n",
    "def body_func(param_func):\n",
    "\tparam_func()\n",
    "\n",
    "body_func(param_func)\n"
   ]
  },
  {
   "cell_type": "code",
   "execution_count": 3,
   "metadata": {},
   "outputs": [
    {
     "name": "stdout",
     "output_type": "stream",
     "text": [
      "戻り値関数の中\n"
     ]
    }
   ],
   "source": [
    "def body_func():\n",
    "\tdef return_func():\n",
    "\t\tprint('戻り値関数の中')\n",
    "\treturn return_func\n",
    "\n",
    "return_func = body_func()\n",
    "return_func() "
   ]
  },
  {
   "cell_type": "code",
   "execution_count": 17,
   "metadata": {},
   "outputs": [
    {
     "name": "stdout",
     "output_type": "stream",
     "text": [
      "引数関数の中\n"
     ]
    }
   ],
   "source": [
    "def body_func(param_func):\n",
    "    def return_func():\n",
    "        param_func()\n",
    "    return return_func\n",
    "return_func = body_func(param_func)\n",
    "return_func()"
   ]
  },
  {
   "cell_type": "code",
   "execution_count": 14,
   "metadata": {},
   "outputs": [
    {
     "name": "stdout",
     "output_type": "stream",
     "text": [
      "0\n"
     ]
    }
   ],
   "source": [
    "def a(num):\n",
    "    if not num:\n",
    "        return num\n",
    "    num -= 1\n",
    "    return a(num)\n",
    "    \n",
    "result = a(10) # 終了条件\n",
    "print(result)"
   ]
  },
  {
   "cell_type": "code",
   "execution_count": 15,
   "metadata": {},
   "outputs": [
    {
     "name": "stdout",
     "output_type": "stream",
     "text": [
      "引数関数の中\n",
      "引数関数実行後に文字列を出力\n"
     ]
    }
   ],
   "source": [
    "def body_func(param_func):\n",
    "    def return_func():\n",
    "        param_func()\n",
    "        print('引数関数実行後に文字列を出力')\n",
    "    return return_func\n",
    "return_func = body_func(param_func)\n",
    "return_func() "
   ]
  },
  {
   "cell_type": "code",
   "execution_count": 18,
   "metadata": {},
   "outputs": [
    {
     "name": "stdout",
     "output_type": "stream",
     "text": [
      "これはテスト関数です\n"
     ]
    }
   ],
   "source": [
    "@body_func\n",
    "def test_func():\n",
    "\tprint('これはテスト関数です')\n",
    "test_func()"
   ]
  },
  {
   "cell_type": "code",
   "execution_count": 24,
   "metadata": {},
   "outputs": [
    {
     "name": "stdout",
     "output_type": "stream",
     "text": [
      "追加文\n",
      "もとからある文\n"
     ]
    }
   ],
   "source": [
    "def body_func_with_parameter(param):\n",
    "    def body_func(param_func):\n",
    "        def return_func():\n",
    "            param_func()\n",
    "            print(param)\n",
    "        return return_func\n",
    "    return body_func\n",
    "\n",
    "@body_func_with_parameter(\"もとからある文\")\n",
    "def exercise_func():\n",
    "    print(\"追加文\")\n",
    "\n",
    "exercise_func()"
   ]
  },
  {
   "cell_type": "code",
   "execution_count": 34,
   "metadata": {},
   "outputs": [
    {
     "name": "stdout",
     "output_type": "stream",
     "text": [
      "追加文\n",
      "もとからある文\n"
     ]
    },
    {
     "ename": "TypeError",
     "evalue": "'NoneType' object is not callable",
     "output_type": "error",
     "traceback": [
      "\u001b[0;31m---------------------------------------------------------------------------\u001b[0m",
      "\u001b[0;31mTypeError\u001b[0m                                 Traceback (most recent call last)",
      "Cell \u001b[0;32mIn[34], line 11\u001b[0m\n\u001b[1;32m      7\u001b[0m \u001b[39m@a\u001b[39m(\u001b[39m\"\u001b[39m\u001b[39mもとからある文\u001b[39m\u001b[39m\"\u001b[39m)\n\u001b[1;32m      8\u001b[0m \u001b[39mdef\u001b[39;00m \u001b[39mfds\u001b[39m():\n\u001b[1;32m      9\u001b[0m     \u001b[39mprint\u001b[39m(\u001b[39m\"\u001b[39m\u001b[39m追加文\u001b[39m\u001b[39m\"\u001b[39m)\n\u001b[0;32m---> 11\u001b[0m fds()\n",
      "\u001b[0;31mTypeError\u001b[0m: 'NoneType' object is not callable"
     ]
    }
   ],
   "source": [
    "def a(param):\n",
    "    def asd(param_func):\n",
    "        param_func()\n",
    "        return print(param)\n",
    "    return asd\n",
    "\n",
    "@a(\"もとからある文\")\n",
    "def fds():\n",
    "    print(\"追加文\")\n",
    "\n",
    "fds()"
   ]
  },
  {
   "cell_type": "code",
   "execution_count": 28,
   "metadata": {},
   "outputs": [
    {
     "name": "stdout",
     "output_type": "stream",
     "text": [
      "関数 add を実行します。\n",
      "関数 add の実行が終了しました。\n",
      "関数 subtract を実行します。\n",
      "関数 subtract の実行が終了しました。\n",
      "add 関数の結果: 8\n",
      "subtract 関数の結果: 6\n"
     ]
    }
   ],
   "source": [
    "# デコレータ関数を定義\n",
    "def log_decorator(func):\n",
    "    def wrapper(*args, **kwargs):\n",
    "        print(f\"関数 {func.__name__} を実行します。\")\n",
    "        result = func(*args, **kwargs)\n",
    "        print(f\"関数 {func.__name__} の実行が終了しました。\")\n",
    "        return result\n",
    "    return wrapper\n",
    "\n",
    "# デコレータを使って関数を修飾\n",
    "@log_decorator\n",
    "def add(x, y):\n",
    "    return x + y\n",
    "\n",
    "@log_decorator\n",
    "def subtract(x, y):\n",
    "    return x - y\n",
    "\n",
    "# 修飾された関数を呼び出す\n",
    "result1 = add(5, 3)\n",
    "result2 = subtract(10, 4)\n",
    "\n",
    "print(f\"add 関数の結果: {result1}\")\n",
    "print(f\"subtract 関数の結果: {result2}\")"
   ]
  },
  {
   "cell_type": "code",
   "execution_count": null,
   "metadata": {},
   "outputs": [],
   "source": [
    "# デコレータ関数を定義\n",
    "def log_decorator(func):\n",
    "    def wrapper(*args, **kwargs):\n",
    "        print(f\"関数 {func.__name__} を実行します。\")\n",
    "        result = func(*args, **kwargs)\n",
    "        print(f\"関数 {func.__name__} の実行が終了しました。\")\n",
    "        return result\n",
    "    return wrapper\n",
    "\n",
    "# デコレータを使って関数を修飾\n",
    "@log_decorator\n",
    "def add(x, y):\n",
    "    return x + y\n",
    "\n",
    "@log_decorator\n",
    "def subtract(x, y):\n",
    "    return x - y\n",
    "\n",
    "# 修飾された関数を呼び出す\n",
    "result1 = add(5, 3)\n",
    "result2 = subtract(10, 4)\n",
    "\n",
    "print(f\"add 関数の結果: {result1}\")\n",
    "print(f\"subtract 関数の結果: {result2}\")"
   ]
  }
 ],
 "metadata": {
  "kernelspec": {
   "display_name": "venv",
   "language": "python",
   "name": "python3"
  },
  "language_info": {
   "codemirror_mode": {
    "name": "ipython",
    "version": 3
   },
   "file_extension": ".py",
   "mimetype": "text/x-python",
   "name": "python",
   "nbconvert_exporter": "python",
   "pygments_lexer": "ipython3",
   "version": "3.10.6"
  },
  "orig_nbformat": 4
 },
 "nbformat": 4,
 "nbformat_minor": 2
}
