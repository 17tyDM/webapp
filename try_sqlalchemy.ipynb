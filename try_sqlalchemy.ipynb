{
 "cells": [
  {
   "cell_type": "code",
   "execution_count": 26,
   "metadata": {},
   "outputs": [],
   "source": [
    "from sqlalchemy import create_engine\n",
    "from sqlalchemy.orm import Session\n",
    "from test_model import Person\n",
    "from test_model import Human"
   ]
  },
  {
   "cell_type": "code",
   "execution_count": 20,
   "metadata": {},
   "outputs": [
    {
     "name": "stdout",
     "output_type": "stream",
     "text": [
      "2023-10-07 14:52:48,149 INFO sqlalchemy.engine.Engine BEGIN (implicit)\n",
      "2023-10-07 14:52:48,151 INFO sqlalchemy.engine.Engine SELECT person.id AS person_id, person.name AS person_name, person.size AS person_size \n",
      "FROM person\n",
      "2023-10-07 14:52:48,160 INFO sqlalchemy.engine.Engine [generated in 0.00899s] ()\n",
      "id:1 name:test size:99.9\n",
      "id:3 name:c_update size:3.14\n",
      "id:4 name:name_d size:2.0\n",
      "id:100 name:name_z size:99.9\n"
     ]
    }
   ],
   "source": [
    "engine = create_engine('sqlite:///test_db', echo=True)\n",
    "session = Session(engine)\n",
    "persons = session.query(Person).all()\n",
    "for person in persons:\n",
    "    print(f'id:{person.id} name:{person.name} size:{person.size}')"
   ]
  },
  {
   "cell_type": "code",
   "execution_count": 21,
   "metadata": {},
   "outputs": [
    {
     "name": "stdout",
     "output_type": "stream",
     "text": [
      "2023-10-07 14:52:50,242 INFO sqlalchemy.engine.Engine INSERT INTO person (id, name, size) VALUES (?, ?, ?)\n",
      "2023-10-07 14:52:50,245 INFO sqlalchemy.engine.Engine [generated in 0.00295s] (5, 'from_model', 100.0)\n",
      "2023-10-07 14:52:50,253 INFO sqlalchemy.engine.Engine COMMIT\n",
      "2023-10-07 14:52:50,290 INFO sqlalchemy.engine.Engine BEGIN (implicit)\n",
      "2023-10-07 14:52:50,292 INFO sqlalchemy.engine.Engine SELECT person.id AS person_id, person.name AS person_name, person.size AS person_size \n",
      "FROM person\n",
      "2023-10-07 14:52:50,293 INFO sqlalchemy.engine.Engine [cached since 2.141s ago] ()\n",
      "{'_sa_instance_state': <sqlalchemy.orm.state.InstanceState object at 0x7f072b297f40>, 'name': 'test', 'size': 99.9, 'id': 1}\n",
      "{'_sa_instance_state': <sqlalchemy.orm.state.InstanceState object at 0x7f072b297d00>, 'name': 'c_update', 'size': 3.14, 'id': 3}\n",
      "{'_sa_instance_state': <sqlalchemy.orm.state.InstanceState object at 0x7f072b297f70>, 'name': 'name_d', 'size': 2.0, 'id': 4}\n",
      "{'_sa_instance_state': <sqlalchemy.orm.state.InstanceState object at 0x7f072b297a60>, 'name': 'from_model', 'size': 100.0, 'id': 5}\n",
      "{'_sa_instance_state': <sqlalchemy.orm.state.InstanceState object at 0x7f072b297d60>, 'name': 'name_z', 'size': 99.9, 'id': 100}\n"
     ]
    }
   ],
   "source": [
    "new_person = Person(id=5, name='from_model', size=100)\n",
    "session.add(new_person)\n",
    "session.commit()\n",
    "persons = session.query(Person).all()\n",
    "for person in persons:\n",
    "    print(person.__dict__)\n"
   ]
  },
  {
   "cell_type": "code",
   "execution_count": 23,
   "metadata": {},
   "outputs": [
    {
     "name": "stdout",
     "output_type": "stream",
     "text": [
      "2023-10-07 14:56:26,243 INFO sqlalchemy.engine.Engine SELECT person.id AS person_id, person.name AS person_name, person.size AS person_size \n",
      "FROM person \n",
      "WHERE person.id = ?\n",
      " LIMIT ? OFFSET ?\n",
      "2023-10-07 14:56:26,245 INFO sqlalchemy.engine.Engine [cached since 18.71s ago] (4, 1, 0)\n",
      "2023-10-07 14:56:26,248 INFO sqlalchemy.engine.Engine UPDATE person SET size=? WHERE person.id = ?\n",
      "2023-10-07 14:56:26,254 INFO sqlalchemy.engine.Engine [generated in 0.00557s] (2.236, 4)\n",
      "2023-10-07 14:56:26,401 INFO sqlalchemy.engine.Engine COMMIT\n",
      "2023-10-07 14:56:26,660 INFO sqlalchemy.engine.Engine BEGIN (implicit)\n",
      "2023-10-07 14:56:26,662 INFO sqlalchemy.engine.Engine DELETE FROM person WHERE person.size > ?\n",
      "2023-10-07 14:56:26,664 INFO sqlalchemy.engine.Engine [generated in 0.00133s] (10,)\n",
      "2023-10-07 14:56:26,667 INFO sqlalchemy.engine.Engine COMMIT\n"
     ]
    }
   ],
   "source": [
    "person4 = session.query(Person).filter(Person.id==4).first()\n",
    "person4.size = 2.236\n",
    "session.commit()\n",
    "session.query(Person).filter(Person.size>10).delete()\n",
    "session.commit()\n"
   ]
  },
  {
   "cell_type": "code",
   "execution_count": 24,
   "metadata": {},
   "outputs": [
    {
     "name": "stdout",
     "output_type": "stream",
     "text": [
      "2023-10-07 14:56:52,127 INFO sqlalchemy.engine.Engine BEGIN (implicit)\n",
      "2023-10-07 14:56:52,129 INFO sqlalchemy.engine.Engine SELECT * FROM person WHERE id = ?\n",
      "2023-10-07 14:56:52,130 INFO sqlalchemy.engine.Engine [generated in 0.00077s] (4,)\n",
      "(4, 'name_d', 2.236)\n"
     ]
    }
   ],
   "source": [
    "result_list = session.execute('SELECT * FROM person WHERE id = :id', {\"id\":4})\n",
    "for result in result_list:\n",
    "    print(result)\n"
   ]
  },
  {
   "cell_type": "code",
   "execution_count": 25,
   "metadata": {},
   "outputs": [
    {
     "name": "stdout",
     "output_type": "stream",
     "text": [
      "2023-10-07 14:57:13,731 INFO sqlalchemy.engine.Engine ROLLBACK\n"
     ]
    }
   ],
   "source": [
    "session.close()"
   ]
  },
  {
   "cell_type": "code",
   "execution_count": 33,
   "metadata": {},
   "outputs": [
    {
     "name": "stdout",
     "output_type": "stream",
     "text": [
      "2023-10-07 15:08:02,999 INFO sqlalchemy.engine.Engine BEGIN (implicit)\n",
      "2023-10-07 15:08:03,001 INFO sqlalchemy.engine.Engine SELECT human.id AS human_id, human.name AS human_name, human.height AS human_height, human.weight AS human_weight \n",
      "FROM human\n",
      "2023-10-07 15:08:03,002 INFO sqlalchemy.engine.Engine [generated in 0.00101s] ()\n",
      "id:1 name:yamada height:160.0 weight:60.0\n",
      "id:2 name:sato height:170.0 weight:65.0\n",
      "id:3 name:tanaka height:185.0 weight:90.0\n",
      "id:4 name:takahasi height:250.0 weight:40.0\n",
      "id:5 name:yamanaka height:166.0 weight:63.0\n"
     ]
    }
   ],
   "source": [
    "engine = create_engine('sqlite:///test_db', echo=True)\n",
    "session = Session(engine)\n",
    "humans = session.query(Human).all()\n",
    "for human in humans:\n",
    "    print(f'id:{human.id} name:{human.name} height:{human.height} weight:{human.weight}')"
   ]
  },
  {
   "cell_type": "code",
   "execution_count": 31,
   "metadata": {},
   "outputs": [
    {
     "name": "stdout",
     "output_type": "stream",
     "text": [
      "2023-10-07 15:05:45,476 INFO sqlalchemy.engine.Engine INSERT INTO human (id, name, height, weight) VALUES (?, ?, ?, ?)\n",
      "2023-10-07 15:05:45,487 INFO sqlalchemy.engine.Engine [generated in 0.01109s] (5, 'yamanaka', 165.0, 63.0)\n",
      "2023-10-07 15:05:45,491 INFO sqlalchemy.engine.Engine COMMIT\n"
     ]
    }
   ],
   "source": [
    "new_human = Human(id=5, name='yamanaka', height=165, weight=63)\n",
    "session.add(new_human)\n",
    "session.commit()"
   ]
  },
  {
   "cell_type": "code",
   "execution_count": 32,
   "metadata": {},
   "outputs": [
    {
     "name": "stdout",
     "output_type": "stream",
     "text": [
      "2023-10-07 15:06:53,308 INFO sqlalchemy.engine.Engine BEGIN (implicit)\n",
      "2023-10-07 15:06:53,311 INFO sqlalchemy.engine.Engine SELECT human.id AS human_id, human.name AS human_name, human.height AS human_height, human.weight AS human_weight \n",
      "FROM human \n",
      "WHERE human.height = ?\n",
      " LIMIT ? OFFSET ?\n",
      "2023-10-07 15:06:53,314 INFO sqlalchemy.engine.Engine [generated in 0.00331s] (165, 1, 0)\n",
      "2023-10-07 15:06:53,316 INFO sqlalchemy.engine.Engine UPDATE human SET height=? WHERE human.id = ?\n",
      "2023-10-07 15:06:53,321 INFO sqlalchemy.engine.Engine [generated in 0.00520s] (166.0, 5)\n",
      "2023-10-07 15:06:53,325 INFO sqlalchemy.engine.Engine COMMIT\n"
     ]
    }
   ],
   "source": [
    "human = session.query(Human).filter(Human.height==165).first()\n",
    "human.height = 166\n",
    "session.commit()"
   ]
  },
  {
   "cell_type": "code",
   "execution_count": 34,
   "metadata": {},
   "outputs": [
    {
     "name": "stdout",
     "output_type": "stream",
     "text": [
      "2023-10-07 15:08:24,066 INFO sqlalchemy.engine.Engine DELETE FROM human WHERE human.weight = ?\n",
      "2023-10-07 15:08:24,068 INFO sqlalchemy.engine.Engine [generated in 0.00172s] (63,)\n",
      "2023-10-07 15:08:24,078 INFO sqlalchemy.engine.Engine COMMIT\n"
     ]
    }
   ],
   "source": [
    "session.query(Human).filter(Human.weight==63).delete()\n",
    "session.commit()"
   ]
  }
 ],
 "metadata": {
  "kernelspec": {
   "display_name": "venv",
   "language": "python",
   "name": "python3"
  },
  "language_info": {
   "codemirror_mode": {
    "name": "ipython",
    "version": 3
   },
   "file_extension": ".py",
   "mimetype": "text/x-python",
   "name": "python",
   "nbconvert_exporter": "python",
   "pygments_lexer": "ipython3",
   "version": "3.10.6"
  },
  "orig_nbformat": 4
 },
 "nbformat": 4,
 "nbformat_minor": 2
}
