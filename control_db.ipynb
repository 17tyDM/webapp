{
 "cells": [
  {
   "cell_type": "code",
   "execution_count": 1,
   "metadata": {},
   "outputs": [],
   "source": [
    "import sqlite3\n",
    "con = sqlite3.connect('./test_db')"
   ]
  },
  {
   "cell_type": "code",
   "execution_count": 2,
   "metadata": {},
   "outputs": [
    {
     "name": "stdout",
     "output_type": "stream",
     "text": [
      "(3, 'c_update', 3.14)\n",
      "3\n",
      "c_update\n",
      "3.14\n",
      "(4, 'name_d', 2.236)\n",
      "4\n",
      "name_d\n",
      "2.236\n"
     ]
    }
   ],
   "source": [
    "cur = con.cursor()\n",
    "for row in cur.execute('SELECT * FROM person'):\n",
    "    print(row)\n",
    "    for column in row:\n",
    "        print(column)\n"
   ]
  },
  {
   "cell_type": "code",
   "execution_count": 29,
   "metadata": {},
   "outputs": [
    {
     "name": "stdout",
     "output_type": "stream",
     "text": [
      "[(1, 'test', 99.9), (100, 'name_z', 99.9)]\n"
     ]
    }
   ],
   "source": [
    "insert_sql = 'INSERT INTO person VALUES(?, ?, ?)'\n",
    "insert_param = (1, 'test', 99.9)\n",
    "cur.execute(insert_sql, insert_param) \n",
    "con.commit()\n",
    "cur.execute('SELECT * FROM person WHERE size > :size', {'size':10})\n",
    "print(cur.fetchall())"
   ]
  },
  {
   "cell_type": "code",
   "execution_count": 9,
   "metadata": {},
   "outputs": [],
   "source": [
    "con.close()"
   ]
  },
  {
   "cell_type": "code",
   "execution_count": 14,
   "metadata": {},
   "outputs": [
    {
     "data": {
      "text/plain": [
       "<sqlite3.Cursor at 0x7fd1f7f956c0>"
      ]
     },
     "execution_count": 14,
     "metadata": {},
     "output_type": "execute_result"
    }
   ],
   "source": [
    "cur.execute('SELECT * FROM person WHERE size > :size', {'size':10})"
   ]
  },
  {
   "cell_type": "code",
   "execution_count": 24,
   "metadata": {},
   "outputs": [
    {
     "name": "stdout",
     "output_type": "stream",
     "text": [
      "[(1, 'changed_name', 10.5), (3, 'c_update', 3.14), (4, 'name_d', 2.0), (100, 'name_z', 99.9)]\n"
     ]
    }
   ],
   "source": [
    "update_sql = 'UPDATE person SET name = ? WHERE id = ?'\n",
    "update_param = ('changed_name', 1)\n",
    "cur.execute(update_sql, update_param)\n",
    "con.commit()\n",
    "cur.execute('SELECT * FROM person')\n",
    "print(cur.fetchall())"
   ]
  },
  {
   "cell_type": "code",
   "execution_count": 27,
   "metadata": {},
   "outputs": [
    {
     "name": "stdout",
     "output_type": "stream",
     "text": [
      "[(3, 'c_update', 3.14), (4, 'name_d', 2.0), (100, 'name_z', 99.9)]\n"
     ]
    }
   ],
   "source": [
    "delete_sql = 'DELETE FROM person WHERE id = 1'\n",
    "cur.execute(delete_sql)\n",
    "con.commit()\n",
    "cur.execute('SELECT * FROM person')\n",
    "print(cur.fetchall())"
   ]
  },
  {
   "cell_type": "code",
   "execution_count": 3,
   "metadata": {},
   "outputs": [],
   "source": [
    "### 内部結合と外部結合の演習\n",
    "insert_sql = 'INSERT INTO person VALUES(?, ?, ?)'\n",
    "insert_param = (1000, 'ensyu', 20)\n",
    "cur.execute(insert_sql, insert_param) \n",
    "con.commit()\n",
    "\n",
    "insert_sql = 'INSERT INTO human VALUES(?, ?, ?, ?)'\n",
    "insert_param = (1000, 'ensyu', 200, 90)\n",
    "cur.execute(insert_sql, insert_param) \n",
    "con.commit()"
   ]
  },
  {
   "cell_type": "code",
   "execution_count": 8,
   "metadata": {},
   "outputs": [
    {
     "ename": "OperationalError",
     "evalue": "no such column: person.id",
     "output_type": "error",
     "traceback": [
      "\u001b[0;31m---------------------------------------------------------------------------\u001b[0m",
      "\u001b[0;31mOperationalError\u001b[0m                          Traceback (most recent call last)",
      "\u001b[1;32m/home/cre/webapp/control_db.ipynb セル 9\u001b[0m line \u001b[0;36m1\n\u001b[0;32m----> <a href='vscode-notebook-cell://wsl%2Bubuntu-22.04/home/cre/webapp/control_db.ipynb#X11sdnNjb2RlLXJlbW90ZQ%3D%3D?line=0'>1</a>\u001b[0m cur\u001b[39m.\u001b[39;49mexecute(\u001b[39m'\u001b[39;49m\u001b[39mSELECT p.name, p.size, h.weight FROM person p INNER JOIN human h on person.id == human.id\u001b[39;49m\u001b[39m'\u001b[39;49m)\n\u001b[1;32m      <a href='vscode-notebook-cell://wsl%2Bubuntu-22.04/home/cre/webapp/control_db.ipynb#X11sdnNjb2RlLXJlbW90ZQ%3D%3D?line=1'>2</a>\u001b[0m \u001b[39mprint\u001b[39m(cur\u001b[39m.\u001b[39mfetchall())\n",
      "\u001b[0;31mOperationalError\u001b[0m: no such column: person.id"
     ]
    }
   ],
   "source": [
    "cur.execute('SELECT * FROM person INNER JOIN human on person.id == human.id')\n",
    "print(cur.fetchall())"
   ]
  }
 ],
 "metadata": {
  "kernelspec": {
   "display_name": "venv",
   "language": "python",
   "name": "python3"
  },
  "language_info": {
   "codemirror_mode": {
    "name": "ipython",
    "version": 3
   },
   "file_extension": ".py",
   "mimetype": "text/x-python",
   "name": "python",
   "nbconvert_exporter": "python",
   "pygments_lexer": "ipython3",
   "version": "3.10.6"
  },
  "orig_nbformat": 4
 },
 "nbformat": 4,
 "nbformat_minor": 2
}
