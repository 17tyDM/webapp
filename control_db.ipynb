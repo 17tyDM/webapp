{
 "cells": [
  {
   "cell_type": "code",
   "execution_count": 12,
   "metadata": {},
   "outputs": [],
   "source": [
    "import sqlite3\n",
    "con = sqlite3.connect('./test_db')"
   ]
  },
  {
   "cell_type": "code",
   "execution_count": 28,
   "metadata": {},
   "outputs": [
    {
     "name": "stdout",
     "output_type": "stream",
     "text": [
      "(3, 'c_update', 3.14)\n",
      "3\n",
      "c_update\n",
      "3.14\n",
      "(4, 'name_d', 2.0)\n",
      "4\n",
      "name_d\n",
      "2.0\n",
      "(100, 'name_z', 99.9)\n",
      "100\n",
      "name_z\n",
      "99.9\n"
     ]
    }
   ],
   "source": [
    "cur = con.cursor()\n",
    "for row in cur.execute('SELECT * FROM person'):\n",
    "    print(row)\n",
    "    for column in row:\n",
    "        print(column)\n"
   ]
  },
  {
   "cell_type": "code",
   "execution_count": 29,
   "metadata": {},
   "outputs": [
    {
     "name": "stdout",
     "output_type": "stream",
     "text": [
      "[(1, 'test', 99.9), (100, 'name_z', 99.9)]\n"
     ]
    }
   ],
   "source": [
    "insert_sql = 'INSERT INTO person VALUES(?, ?, ?)'\n",
    "insert_param = (1, 'test', 99.9)\n",
    "cur.execute(insert_sql, insert_param) \n",
    "con.commit()\n",
    "cur.execute('SELECT * FROM person WHERE size > :size', {'size':10})\n",
    "print(cur.fetchall())"
   ]
  },
  {
   "cell_type": "code",
   "execution_count": 9,
   "metadata": {},
   "outputs": [],
   "source": [
    "con.close()"
   ]
  },
  {
   "cell_type": "code",
   "execution_count": 14,
   "metadata": {},
   "outputs": [
    {
     "data": {
      "text/plain": [
       "<sqlite3.Cursor at 0x7fd1f7f956c0>"
      ]
     },
     "execution_count": 14,
     "metadata": {},
     "output_type": "execute_result"
    }
   ],
   "source": [
    "cur.execute('SELECT * FROM person WHERE size > :size', {'size':10})"
   ]
  },
  {
   "cell_type": "code",
   "execution_count": 24,
   "metadata": {},
   "outputs": [
    {
     "name": "stdout",
     "output_type": "stream",
     "text": [
      "[(1, 'changed_name', 10.5), (3, 'c_update', 3.14), (4, 'name_d', 2.0), (100, 'name_z', 99.9)]\n"
     ]
    }
   ],
   "source": [
    "update_sql = 'UPDATE person SET name = ? WHERE id = ?'\n",
    "update_param = ('changed_name', 1)\n",
    "cur.execute(update_sql, update_param)\n",
    "con.commit()\n",
    "cur.execute('SELECT * FROM person')\n",
    "print(cur.fetchall())"
   ]
  },
  {
   "cell_type": "code",
   "execution_count": 27,
   "metadata": {},
   "outputs": [
    {
     "name": "stdout",
     "output_type": "stream",
     "text": [
      "[(3, 'c_update', 3.14), (4, 'name_d', 2.0), (100, 'name_z', 99.9)]\n"
     ]
    }
   ],
   "source": [
    "delete_sql = 'DELETE FROM person WHERE id = 1'\n",
    "cur.execute(delete_sql)\n",
    "con.commit()\n",
    "cur.execute('SELECT * FROM person')\n",
    "print(cur.fetchall())"
   ]
  }
 ],
 "metadata": {
  "kernelspec": {
   "display_name": "venv",
   "language": "python",
   "name": "python3"
  },
  "language_info": {
   "codemirror_mode": {
    "name": "ipython",
    "version": 3
   },
   "file_extension": ".py",
   "mimetype": "text/x-python",
   "name": "python",
   "nbconvert_exporter": "python",
   "pygments_lexer": "ipython3",
   "version": "3.10.6"
  },
  "orig_nbformat": 4
 },
 "nbformat": 4,
 "nbformat_minor": 2
}
